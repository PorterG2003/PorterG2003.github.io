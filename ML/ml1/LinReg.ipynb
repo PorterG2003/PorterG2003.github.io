{
 "cells": [
  {
   "cell_type": "code",
   "execution_count": 1,
   "metadata": {},
   "outputs": [],
   "source": [
    "import numpy as np\n",
    "\n",
    "\n",
    "X = 6 * np.random.rand(100, 1)\n",
    "y = 2 + 8 * X + np.random.randn(100, 1)"
   ]
  },
  {
   "cell_type": "code",
   "execution_count": 2,
   "metadata": {},
   "outputs": [
    {
     "data": {
      "text/plain": [
       "<Figure size 640x480 with 1 Axes>"
      ]
     },
     "metadata": {},
     "output_type": "display_data"
    }
   ],
   "source": [
    "import matplotlib.pyplot as plt\n",
    "\n",
    "plt.scatter(X, y)\n",
    "plt.show()"
   ]
  },
  {
   "cell_type": "code",
   "execution_count": 3,
   "metadata": {},
   "outputs": [],
   "source": [
    "X_b = np.c_[np.ones((100,1)), X] # add x0 = 1 to each instance\n",
    "theta_best = np.linalg.inv(X_b.T.dot(X_b)).dot(X_b.T).dot(y)"
   ]
  },
  {
   "cell_type": "code",
   "execution_count": 4,
   "metadata": {},
   "outputs": [
    {
     "data": {
      "text/plain": [
       "array([[2.04099022],\n",
       "       [7.97232285]])"
      ]
     },
     "execution_count": 4,
     "metadata": {},
     "output_type": "execute_result"
    }
   ],
   "source": [
    "theta_best"
   ]
  },
  {
   "cell_type": "code",
   "execution_count": 5,
   "metadata": {},
   "outputs": [
    {
     "data": {
      "text/plain": [
       "array([[4.66746508],\n",
       "       [3.97727548],\n",
       "       [5.46223663],\n",
       "       [1.36501659],\n",
       "       [4.67877972],\n",
       "       [3.49088431],\n",
       "       [1.98981282],\n",
       "       [0.67045661],\n",
       "       [3.08057146],\n",
       "       [0.05861028],\n",
       "       [1.2892318 ],\n",
       "       [3.90929088],\n",
       "       [0.21520781],\n",
       "       [2.43689087],\n",
       "       [2.68942649],\n",
       "       [1.96613289],\n",
       "       [3.55531073],\n",
       "       [0.33674906],\n",
       "       [0.77293508],\n",
       "       [2.39869666],\n",
       "       [1.02189334],\n",
       "       [4.45744992],\n",
       "       [1.11622563],\n",
       "       [2.29728485],\n",
       "       [3.06644685],\n",
       "       [2.88869455],\n",
       "       [2.27910357],\n",
       "       [3.21619754],\n",
       "       [1.86354452],\n",
       "       [4.11156324],\n",
       "       [5.82491728],\n",
       "       [3.69222266],\n",
       "       [1.53663356],\n",
       "       [1.53925797],\n",
       "       [4.46220891],\n",
       "       [3.16317758],\n",
       "       [1.95565302],\n",
       "       [3.2261284 ],\n",
       "       [5.76061528],\n",
       "       [3.28533629],\n",
       "       [2.32239906],\n",
       "       [4.40445415],\n",
       "       [4.09956714],\n",
       "       [1.88118166],\n",
       "       [2.03222031],\n",
       "       [4.38365311],\n",
       "       [2.83922602],\n",
       "       [5.85868569],\n",
       "       [4.1804042 ],\n",
       "       [2.72715532],\n",
       "       [0.88543946],\n",
       "       [1.75474027],\n",
       "       [2.90062493],\n",
       "       [2.49838339],\n",
       "       [0.25727322],\n",
       "       [5.49130847],\n",
       "       [0.97199997],\n",
       "       [0.75987779],\n",
       "       [2.91430557],\n",
       "       [1.25843105],\n",
       "       [2.96497891],\n",
       "       [2.61916133],\n",
       "       [1.71035948],\n",
       "       [1.23376281],\n",
       "       [2.4501315 ],\n",
       "       [3.8622363 ],\n",
       "       [4.47231601],\n",
       "       [2.97744731],\n",
       "       [0.16612201],\n",
       "       [5.34986514],\n",
       "       [2.21872998],\n",
       "       [1.21712583],\n",
       "       [3.88975151],\n",
       "       [1.38354014],\n",
       "       [2.98228665],\n",
       "       [5.01986753],\n",
       "       [1.80829028],\n",
       "       [4.34430811],\n",
       "       [1.57572049],\n",
       "       [2.6421813 ],\n",
       "       [2.06526034],\n",
       "       [1.43308019],\n",
       "       [1.41943885],\n",
       "       [2.35076126],\n",
       "       [1.65153494],\n",
       "       [5.51032961],\n",
       "       [1.14082264],\n",
       "       [0.9615621 ],\n",
       "       [2.36751532],\n",
       "       [1.12746073],\n",
       "       [0.22528156],\n",
       "       [0.42796297],\n",
       "       [0.14779496],\n",
       "       [3.38892691],\n",
       "       [1.69817741],\n",
       "       [2.59254158],\n",
       "       [0.46154995],\n",
       "       [1.41791435],\n",
       "       [1.49264407],\n",
       "       [5.22574206]])"
      ]
     },
     "execution_count": 5,
     "metadata": {},
     "output_type": "execute_result"
    }
   ],
   "source": [
    "X"
   ]
  },
  {
   "cell_type": "code",
   "execution_count": 6,
   "metadata": {},
   "outputs": [
    {
     "data": {
      "text/plain": [
       "array([[1.        , 4.66746508],\n",
       "       [1.        , 3.97727548],\n",
       "       [1.        , 5.46223663],\n",
       "       [1.        , 1.36501659],\n",
       "       [1.        , 4.67877972],\n",
       "       [1.        , 3.49088431],\n",
       "       [1.        , 1.98981282],\n",
       "       [1.        , 0.67045661],\n",
       "       [1.        , 3.08057146],\n",
       "       [1.        , 0.05861028],\n",
       "       [1.        , 1.2892318 ],\n",
       "       [1.        , 3.90929088],\n",
       "       [1.        , 0.21520781],\n",
       "       [1.        , 2.43689087],\n",
       "       [1.        , 2.68942649],\n",
       "       [1.        , 1.96613289],\n",
       "       [1.        , 3.55531073],\n",
       "       [1.        , 0.33674906],\n",
       "       [1.        , 0.77293508],\n",
       "       [1.        , 2.39869666],\n",
       "       [1.        , 1.02189334],\n",
       "       [1.        , 4.45744992],\n",
       "       [1.        , 1.11622563],\n",
       "       [1.        , 2.29728485],\n",
       "       [1.        , 3.06644685],\n",
       "       [1.        , 2.88869455],\n",
       "       [1.        , 2.27910357],\n",
       "       [1.        , 3.21619754],\n",
       "       [1.        , 1.86354452],\n",
       "       [1.        , 4.11156324],\n",
       "       [1.        , 5.82491728],\n",
       "       [1.        , 3.69222266],\n",
       "       [1.        , 1.53663356],\n",
       "       [1.        , 1.53925797],\n",
       "       [1.        , 4.46220891],\n",
       "       [1.        , 3.16317758],\n",
       "       [1.        , 1.95565302],\n",
       "       [1.        , 3.2261284 ],\n",
       "       [1.        , 5.76061528],\n",
       "       [1.        , 3.28533629],\n",
       "       [1.        , 2.32239906],\n",
       "       [1.        , 4.40445415],\n",
       "       [1.        , 4.09956714],\n",
       "       [1.        , 1.88118166],\n",
       "       [1.        , 2.03222031],\n",
       "       [1.        , 4.38365311],\n",
       "       [1.        , 2.83922602],\n",
       "       [1.        , 5.85868569],\n",
       "       [1.        , 4.1804042 ],\n",
       "       [1.        , 2.72715532],\n",
       "       [1.        , 0.88543946],\n",
       "       [1.        , 1.75474027],\n",
       "       [1.        , 2.90062493],\n",
       "       [1.        , 2.49838339],\n",
       "       [1.        , 0.25727322],\n",
       "       [1.        , 5.49130847],\n",
       "       [1.        , 0.97199997],\n",
       "       [1.        , 0.75987779],\n",
       "       [1.        , 2.91430557],\n",
       "       [1.        , 1.25843105],\n",
       "       [1.        , 2.96497891],\n",
       "       [1.        , 2.61916133],\n",
       "       [1.        , 1.71035948],\n",
       "       [1.        , 1.23376281],\n",
       "       [1.        , 2.4501315 ],\n",
       "       [1.        , 3.8622363 ],\n",
       "       [1.        , 4.47231601],\n",
       "       [1.        , 2.97744731],\n",
       "       [1.        , 0.16612201],\n",
       "       [1.        , 5.34986514],\n",
       "       [1.        , 2.21872998],\n",
       "       [1.        , 1.21712583],\n",
       "       [1.        , 3.88975151],\n",
       "       [1.        , 1.38354014],\n",
       "       [1.        , 2.98228665],\n",
       "       [1.        , 5.01986753],\n",
       "       [1.        , 1.80829028],\n",
       "       [1.        , 4.34430811],\n",
       "       [1.        , 1.57572049],\n",
       "       [1.        , 2.6421813 ],\n",
       "       [1.        , 2.06526034],\n",
       "       [1.        , 1.43308019],\n",
       "       [1.        , 1.41943885],\n",
       "       [1.        , 2.35076126],\n",
       "       [1.        , 1.65153494],\n",
       "       [1.        , 5.51032961],\n",
       "       [1.        , 1.14082264],\n",
       "       [1.        , 0.9615621 ],\n",
       "       [1.        , 2.36751532],\n",
       "       [1.        , 1.12746073],\n",
       "       [1.        , 0.22528156],\n",
       "       [1.        , 0.42796297],\n",
       "       [1.        , 0.14779496],\n",
       "       [1.        , 3.38892691],\n",
       "       [1.        , 1.69817741],\n",
       "       [1.        , 2.59254158],\n",
       "       [1.        , 0.46154995],\n",
       "       [1.        , 1.41791435],\n",
       "       [1.        , 1.49264407],\n",
       "       [1.        , 5.22574206]])"
      ]
     },
     "execution_count": 6,
     "metadata": {},
     "output_type": "execute_result"
    }
   ],
   "source": [
    "X_b"
   ]
  },
  {
   "cell_type": "code",
   "execution_count": 7,
   "metadata": {},
   "outputs": [
    {
     "data": {
      "text/plain": [
       "array([[ 2.04099022],\n",
       "       [49.87492731]])"
      ]
     },
     "execution_count": 7,
     "metadata": {},
     "output_type": "execute_result"
    }
   ],
   "source": [
    "X_new = np.array([[0], [6]])\n",
    "X_new_b = np.c_[np.ones((2,1)), X_new]\n",
    "y_predict = X_new_b.dot(theta_best)\n",
    "y_predict"
   ]
  },
  {
   "cell_type": "code",
   "execution_count": 8,
   "metadata": {},
   "outputs": [
    {
     "data": {
      "text/plain": [
       "[<matplotlib.lines.Line2D at 0x7f4bf28a9908>]"
      ]
     },
     "execution_count": 8,
     "metadata": {},
     "output_type": "execute_result"
    },
    {
     "data": {
      "image/png": "[encoded data removed]",
      "text/plain": [
       "<Figure size 432x288 with 1 Axes>"
      ]
     },
     "metadata": {
      "needs_background": "light"
     },
     "output_type": "display_data"
    }
   ],
   "source": [
    "plt.plot(X_new, y_predict, \"r-\")\n",
    "plt.plot(X,y,\"b.\")"
   ]
  },
  {
   "cell_type": "code",
   "execution_count": 9,
   "metadata": {},
   "outputs": [
    {
     "data": {
      "text/plain": [
       "(array([2.04099022]), array([[7.97232285]]))"
      ]
     },
     "execution_count": 9,
     "metadata": {},
     "output_type": "execute_result"
    }
   ],
   "source": [
    "from sklearn.linear_model import LinearRegression\n",
    "lin_reg = LinearRegression()\n",
    "lin_reg.fit(X, y)\n",
    "lin_reg.intercept_, lin_reg.coef_"
   ]
  },
  {
   "cell_type": "code",
   "execution_count": 10,
   "metadata": {},
   "outputs": [
    {
     "data": {
      "text/plain": [
       "array([[ 2.04099022],\n",
       "       [49.87492731]])"
      ]
     },
     "execution_count": 10,
     "metadata": {},
     "output_type": "execute_result"
    }
   ],
   "source": [
    "lin_reg.predict(X_new)"
   ]
  },
  {
   "cell_type": "code",
   "execution_count": 11,
   "metadata": {},
   "outputs": [],
   "source": [
    "#Gradient Descent"
   ]
  },
  {
   "cell_type": "code",
   "execution_count": 12,
   "metadata": {},
   "outputs": [],
   "source": [
    "eta = 0.02 #learning rate\n",
    "n_iterations = 1000\n",
    "m = 100\n",
    "\n",
    "theta = np.random.randn(2,1) # random initialization\n",
    "\n",
    "for iteration in range(n_iterations):\n",
    "    gradients = 2/m * X_b.T.dot(X_b.dot(theta) - y)\n",
    "    theta = theta - eta * gradients"
   ]
  },
  {
   "cell_type": "code",
   "execution_count": 13,
   "metadata": {},
   "outputs": [
    {
     "data": {
      "text/plain": [
       "array([[2.0409472 ],\n",
       "       [7.97233565]])"
      ]
     },
     "execution_count": 13,
     "metadata": {},
     "output_type": "execute_result"
    }
   ],
   "source": [
    "theta"
   ]
  },
  {
   "cell_type": "code",
   "execution_count": 14,
   "metadata": {},
   "outputs": [],
   "source": [
    "n_epochs = 50\n",
    "t0, t1 = 5, 50 #learning schedule hyperparameters\n",
    "\n",
    "def learning_schedule(t):\n",
    "    return t0 / (t + t1)\n",
    "\n",
    "theta = np.random.randn(2,1)\n",
    "\n",
    "for epoch in range(n_epochs):\n",
    "    for i in range(m):\n",
    "        random_index = np.random.randint(m)\n",
    "        xi = X_b[random_index:random_index+1]\n",
    "        yi = y[random_index:random_index+1]\n",
    "        gradients = 2 * xi.T.dot(xi.dot(theta) - yi)\n",
    "        eta = learning_schedule(epoch * m + i)\n",
    "        theta = theta - eta * gradients"
   ]
  },
  {
   "cell_type": "code",
   "execution_count": null,
   "metadata": {},
   "outputs": [],
   "source": []
  }
 ],
 "metadata": {
  "kernelspec": {
   "display_name": "Python 3",
   "language": "python",
   "name": "python3"
  },
  "language_info": {
   "codemirror_mode": {
    "name": "ipython",
    "version": 3
   },
   "file_extension": ".py",
   "mimetype": "text/x-python",
   "name": "python",
   "nbconvert_exporter": "python",
   "pygments_lexer": "ipython3",
   "version": "3.6.7"
  }
 },
 "nbformat": 4,
 "nbformat_minor": 2
}
